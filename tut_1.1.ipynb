{
  "cells": [
    {
      "cell_type": "markdown",
      "metadata": {
        "id": "lrR_rbC0Et9j"
      },
      "source": [
        "# <u>Tut_1.1</u>"
      ]
    },
    {
      "cell_type": "markdown",
      "metadata": {
        "id": "yaOv3OrVEt9k"
      },
      "source": [
        "## Learning outcomes"
      ]
    },
    {
      "cell_type": "markdown",
      "metadata": {
        "id": "36E0i926Et9k"
      },
      "source": [
        "* Understand a high-level structure of the course\n",
        "* Set up and get familiar with coding environment\n",
        "* Learn and understand **absolutely** necessary routines (*commands to be executed before and after each class*)\n",
        "* **markdown** syntax\n",
        "* Reflection on what is 'big data' and why do we need it\n",
        "* Why Python?\n",
        "* Modules, libraries and frameworks\n",
        "* 1<sup>st</sup> look at a python program structure (how it is organised, formatting, reserved words and naming conventions)\n",
        "* DRY principle\n",
        "* Errors\n",
        "* `print()` statement\n"
      ]
    },
    {
      "cell_type": "code",
      "source": [
        "name = input(\"Whats your name?\")\n",
        "print (\"The user name you entered is\", (name))"
      ],
      "metadata": {
        "id": "pQsDDLmrG0Oi",
        "outputId": "926493ff-29d7-4c14-9ab2-0237dfea2052",
        "colab": {
          "base_uri": "https://localhost:8080/"
        }
      },
      "execution_count": 12,
      "outputs": [
        {
          "output_type": "stream",
          "name": "stdout",
          "text": [
            "Whats your name?Carl\n",
            "The user name you entered is Carl\n"
          ]
        }
      ]
    },
    {
      "cell_type": "code",
      "source": [
        "r = float(input(\"What is the radius?\"))\n",
        "answer = 3.14*r**2\n",
        "print (answer)"
      ],
      "metadata": {
        "id": "yQ0AZCMaJ0Rn",
        "outputId": "8a01dd4e-792c-4a0d-81d1-5518daf54390",
        "colab": {
          "base_uri": "https://localhost:8080/"
        }
      },
      "execution_count": 25,
      "outputs": [
        {
          "output_type": "stream",
          "name": "stdout",
          "text": [
            "What is the radius?3\n",
            "28.26\n"
          ]
        }
      ]
    },
    {
      "cell_type": "markdown",
      "metadata": {
        "id": "CR2LaslNEt9k"
      },
      "source": [
        "---"
      ]
    },
    {
      "cell_type": "markdown",
      "metadata": {
        "id": "h09nf-T_Et9l"
      },
      "source": [
        "## Course Structure\n",
        "* Before the **consolidation week**: python fundamentals and essentials specific for **big data** applications.\n",
        "    * 2 classes per week, 2 hours each class. <u>N.b. Each class will cover it's own topic. Meaning, Thursday class is **not** a repetition of a content from Monday.</u>\n",
        "* After the **consolidation week**: principles of Big Data / Machine Learning / Data Mining: 2 hours of tutorials, 2 hours of drop-in.\n",
        "    * Image recognition using the Convolution Neural Network (CNN)\n",
        "    * Models for numerical data analysis (regression and classification tasks): Statitics, Linear Regression, Logistic Regression, Decision Tree, Ensemble Techniques\n",
        "    * Time series\n",
        "* If we have time (and energy) left: Model deployment using Flask, Streamlit, Heroku and/or Render.\n",
        "<br>\n",
        "<br>\n",
        "In **tut_1.1** the 1<sup>st</sup> is the week number; the 2<sup>nd</sup> number is the lecture of the week. Each tutorial has dedicated Jupyter notebook.\n",
        "\n"
      ]
    },
    {
      "cell_type": "markdown",
      "metadata": {
        "id": "Xb0BNiaJEt9l"
      },
      "source": [
        "## Assessment\n",
        "1. Set of exercises: **20%**\n",
        "2. Course work: **80%**\n",
        "<br>\n",
        "<br>\n",
        "Submission dates: **t.b.d.**\n"
      ]
    },
    {
      "cell_type": "markdown",
      "metadata": {
        "id": "qI0Mba1fEt9l"
      },
      "source": [
        "---\n",
        "---"
      ]
    },
    {
      "cell_type": "markdown",
      "metadata": {
        "id": "1hj9B0_dEt9l"
      },
      "source": [
        "## <u>First thing first: setting up working/coding environment</u>\n",
        "### **[https://github.com/](https://github.com/)**"
      ]
    },
    {
      "cell_type": "markdown",
      "metadata": {
        "id": "6I7DU1XiEt9l"
      },
      "source": [
        "## Create GitHub repository\n",
        "* Give sensible name\n",
        "* Make it public\n",
        "* Add README\n",
        "* Add .gitignore from Python template\n",
        "* Licence is not required\n",
        "*You can customise your page later by adding photo, bio etc.*\n",
        "\n",
        "Do not login using your Google profile. Create a proper password and memorise it or write it down. You will need this password to provide third-party services access to your github account."
      ]
    },
    {
      "cell_type": "markdown",
      "metadata": {
        "id": "KCKb8oSAEt9l"
      },
      "source": [
        "---"
      ]
    },
    {
      "cell_type": "markdown",
      "metadata": {
        "id": "w1xR2KvUEt9l"
      },
      "source": [
        "## Create codespace (follow in-class instructions)"
      ]
    },
    {
      "cell_type": "markdown",
      "metadata": {
        "id": "CwqxEKXqEt9l"
      },
      "source": [
        "---"
      ]
    },
    {
      "cell_type": "markdown",
      "metadata": {
        "id": "LJ7_kDPnEt9l"
      },
      "source": [
        "## `.gitignore` file"
      ]
    },
    {
      "cell_type": "markdown",
      "metadata": {
        "id": "kSSd_MC_Et9l"
      },
      "source": [
        "---"
      ]
    },
    {
      "cell_type": "markdown",
      "metadata": {
        "id": "mdlMy7FiEt9m"
      },
      "source": [
        "## Create and activate virtual environment (follow in-class instructions)"
      ]
    },
    {
      "cell_type": "markdown",
      "metadata": {
        "id": "ebqAA8jdEt9m"
      },
      "source": [
        "---"
      ]
    },
    {
      "cell_type": "markdown",
      "metadata": {
        "id": "cwozn8CpEt9m"
      },
      "source": [
        "## Create `jupyter_notebooks` folder\n",
        "In this folder, create your 1<sup>st</sup> jupyter notebook. Use sensible name. It is recommended to create a notebook per tutorial. **Important**: <u>file name must have an extention **.ipynb**</u>\n",
        "\n",
        "In the file tab of VS Code select 'autosave'\n",
        "\n",
        "Select Kernel (follow in-class instructions)\n",
        "\n",
        "Upon the first `Code` cell execution, you will be asked to install Python kernel. Follow the in-class instructions (installation can take a while).\n",
        "\n",
        "*The name of the **Jupyter** project is the melt of names of three supported languages: <u>Julia, Python and R</u>. Jupyter notebook can also be run via Jupyter project, Anaconda or Google Colab*. VS Code is a universal IDE, can handle any other programming language and we are going to use it in this course."
      ]
    },
    {
      "cell_type": "markdown",
      "metadata": {
        "id": "2pFq012BEt9m"
      },
      "source": [
        "---"
      ]
    },
    {
      "cell_type": "markdown",
      "metadata": {
        "id": "IwmjqQ_SEt9m"
      },
      "source": [
        "## Markdown syntax"
      ]
    },
    {
      "cell_type": "markdown",
      "metadata": {
        "id": "_W3mzTehEt9m"
      },
      "source": [
        "---"
      ]
    },
    {
      "cell_type": "markdown",
      "metadata": {
        "id": "LEzTL1R7Et9m"
      },
      "source": [
        "## What is 'Big Data' and why do we need it?"
      ]
    },
    {
      "cell_type": "markdown",
      "metadata": {
        "id": "oYgAdZIfEt9m"
      },
      "source": [
        "---"
      ]
    },
    {
      "cell_type": "markdown",
      "metadata": {
        "id": "ZXa7cPRsEt9m"
      },
      "source": [
        "## Why Python?\n",
        "* High-level programming language\n",
        "* Very clear syntax\n",
        "* Interpreted\n",
        "* Dynamically typed\n",
        "* Abundance of libraries for data handling, visualisation and modelling (we do not have much choice when it comes to data handling and machine learning)"
      ]
    },
    {
      "cell_type": "markdown",
      "metadata": {
        "id": "MXXUK-_WEt9m"
      },
      "source": [
        "---"
      ]
    },
    {
      "cell_type": "markdown",
      "metadata": {
        "id": "zJ7czT2CEt9m"
      },
      "source": [
        "## Libraries, modules and frameworks\n",
        "![Numpy](https://img.icons8.com/?size=100&id=aR9CXyMagKIS&format=png&color=000000)<br>\n",
        "![Pandas](https://img.icons8.com/?size=100&id=xSkewUSqtErH&format=png&color=000000)<br>\n",
        "![TensorFlow](https://img.icons8.com/?size=100&id=n3QRpDA7KZ7P&format=png&color=000000)<br>\n",
        "![Django](https://img.icons8.com/?size=100&id=qV-JzWYl9dzP&format=png&color=000000)"
      ]
    },
    {
      "cell_type": "markdown",
      "metadata": {
        "id": "bQWZEzEOEt9m"
      },
      "source": [
        "---"
      ]
    },
    {
      "cell_type": "markdown",
      "metadata": {
        "id": "L_Zi1bu7Et9m"
      },
      "source": [
        "## 1<sup>st</sup> look at Python code"
      ]
    },
    {
      "cell_type": "code",
      "execution_count": null,
      "metadata": {
        "id": "6SkCYj12Et9m"
      },
      "outputs": [],
      "source": [
        "import os  # import libraries\n",
        "\n",
        "def remove_non_image_file(my_data_dir):\n",
        "    \"\"\"\n",
        "    Checks files in defined folder and removes those which are not images.\n",
        "    \"\"\"\n",
        "    image_extension = ('.png', '.jpg', '.jpeg')\n",
        "    folders = os.listdir(my_data_dir)\n",
        "    for folder in folders:\n",
        "        files = os.listdir(os.path.join(my_data_dir, folder))\n",
        "        i = []\n",
        "        j = []\n",
        "        for given_file in files:\n",
        "            if not given_file.lower().endswith(image_extension):\n",
        "                file_location = os.path.join(my_data_dir, folder, given_file)\n",
        "                print(file_location)\n",
        "                os.remove(file_location)  # remove non image file\n",
        "                i.append(1)\n",
        "            else:\n",
        "                j.append(1)\n",
        "                pass\n",
        "        print(f\"Folder: {folder} - has image file\", len(j))\n",
        "        print(f\"Folder: {folder} - has non-image file\", len(i))"
      ]
    },
    {
      "cell_type": "markdown",
      "metadata": {
        "id": "5zBRvWO8Et9n"
      },
      "source": [
        "* `import` is always on top\n",
        "* **tab** sensitive. Do not use 4 times spaces!!! Just **tab**\n",
        "* naming_convention for variables:\n",
        "    * no spaces\n",
        "    * no reserved words\n",
        "    * no numbers as a first character\n",
        "* comments and docstrings: good practice to think of those who will read your code"
      ]
    },
    {
      "cell_type": "markdown",
      "metadata": {
        "id": "PhjssHZMEt9n"
      },
      "source": [
        "---"
      ]
    },
    {
      "cell_type": "markdown",
      "metadata": {
        "id": "ksMp-8N8Et9n"
      },
      "source": [
        "## 'End of session' routine\n",
        "* `git add --all`\n",
        "* `git commit -m \"commit message\"`\n",
        "* `git push`\n",
        "\n",
        "(Sendint a parcel)\n",
        "\n",
        "`git status` - to see commit status (check uncommitted changes of your project)\n"
      ]
    },
    {
      "cell_type": "markdown",
      "metadata": {
        "id": "tSBQ2UsDEt9n"
      },
      "source": [
        "---"
      ]
    },
    {
      "cell_type": "markdown",
      "metadata": {
        "id": "1qtKcX3SEt9n"
      },
      "source": [
        "## DRY"
      ]
    },
    {
      "cell_type": "markdown",
      "metadata": {
        "id": "nxWkopdvEt9n"
      },
      "source": [
        "---"
      ]
    },
    {
      "cell_type": "markdown",
      "metadata": {
        "id": "0NOU3_qXEt9n"
      },
      "source": [
        "## Errors"
      ]
    },
    {
      "cell_type": "markdown",
      "metadata": {
        "id": "pSajCCjVEt9n"
      },
      "source": [
        "---"
      ]
    },
    {
      "cell_type": "markdown",
      "metadata": {
        "id": "g5q2fu-lEt9n"
      },
      "source": [
        "### `print()` statement"
      ]
    },
    {
      "cell_type": "code",
      "execution_count": null,
      "metadata": {
        "id": "KyN47MOyEt9n",
        "outputId": "0e41d113-373a-418d-e933-700d7d0851ca"
      },
      "outputs": [
        {
          "name": "stdout",
          "output_type": "stream",
          "text": [
            "test message\n",
            "4\n",
            "Today is Monday\n"
          ]
        }
      ],
      "source": [
        "print(\"test message\")  # Printing string\n",
        "print(2 + 2) # Printing result of equation\n",
        "week_day = \"Monday\"\n",
        "print(f\"Today is {week_day}\")  # String literals"
      ]
    },
    {
      "cell_type": "markdown",
      "metadata": {
        "id": "MGckct8TEt9o"
      },
      "source": [
        "### Declaring variables\n",
        "`=` assignment operator"
      ]
    },
    {
      "cell_type": "code",
      "execution_count": null,
      "metadata": {
        "id": "3MxOH4MREt9r"
      },
      "outputs": [],
      "source": [
        "a = 5  # think of it as a storage box\n",
        "my_name = \"Sergey\"\n",
        "my_object = {\n",
        "    \"flat\": 20,\n",
        "    \"type\": \"residential\"\n",
        "}\n",
        "my_list = [3, 5, 6.4]"
      ]
    },
    {
      "cell_type": "markdown",
      "metadata": {
        "id": "pYbz8q11Et9r"
      },
      "source": [
        "### Data type"
      ]
    },
    {
      "cell_type": "markdown",
      "metadata": {
        "id": "YiWVZffNEt9r"
      },
      "source": [
        "![Data type](https://github.com/up2067537/m32895-public/blob/main/assets/img/data_type.png?raw=1)\n",
        "\n",
        "###### Sourse: Python essentials by [Code Institute](https://codeinstitute.net/)"
      ]
    },
    {
      "cell_type": "code",
      "execution_count": null,
      "metadata": {
        "id": "MuHp7YeaEt9r",
        "outputId": "a8ec9e6d-fc89-4e27-ec9e-9ca7c92bb977"
      },
      "outputs": [
        {
          "name": "stdout",
          "output_type": "stream",
          "text": [
            "<class 'str'>\n",
            "<class 'int'>\n",
            "<class 'float'>\n",
            "<class 'complex'>\n",
            "<class 'list'>\n",
            "<class 'tuple'>\n",
            "<class 'range'>\n",
            "<class 'dict'>\n",
            "<class 'set'>\n",
            "<class 'bool'>\n",
            "False\n"
          ]
        }
      ],
      "source": [
        "print(type(\"Hello, World!\"))\n",
        "print(type(42))\n",
        "print(type(3.145))\n",
        "print(type(1j))\n",
        "print(type([\"egg\", \"bacon\", \"spam\"]))\n",
        "print(type((\"egg\", \"bacon\", \"spam\")))\n",
        "print(type(range(6)))\n",
        "print(type({\"name\" : \"John\", \"age\" : 80}))\n",
        "print(type({\"egg\", \"bacon\", \"spam\"}))\n",
        "print(type(True))\n",
        "print(isinstance(3.14, int))\n"
      ]
    },
    {
      "cell_type": "markdown",
      "metadata": {
        "id": "DnXukkQ7Et9r"
      },
      "source": [
        "### String"
      ]
    },
    {
      "cell_type": "code",
      "execution_count": null,
      "metadata": {
        "id": "kKnv7GHzEt9r",
        "outputId": "55755ea3-d2cd-42dd-8ace-9b6ae7f23a64"
      },
      "outputs": [
        {
          "name": "stdout",
          "output_type": "stream",
          "text": [
            "Then Mike said 'What is that?'\n",
            "It's a beautiful day\n"
          ]
        }
      ],
      "source": [
        "print(\"Then Mike said 'What is that?'\") # Note: usage of double and single quotes\n",
        "print(\"It's a beautiful day\")"
      ]
    },
    {
      "cell_type": "markdown",
      "metadata": {
        "id": "9FmNSxIAEt9s"
      },
      "source": [
        "### Functions for converting between data types"
      ]
    },
    {
      "cell_type": "code",
      "execution_count": null,
      "metadata": {
        "id": "NbH2EuU9Et9s"
      },
      "outputs": [],
      "source": [
        "int()  # Converts to an integer\n",
        "float()  # Converts to a floating-point number\n",
        "hex()  # Converts a number to a hexadecimal string\n",
        "oct()  # Converts a number to a octal string\n",
        "tuple()  #Converts to a tuple\n",
        "set()  # Converts to a set\n",
        "list()  # Converts to a list\n",
        "dict()  # Converts a tuple into a dictionary\n",
        "str()  # Converts a number into a string"
      ]
    },
    {
      "cell_type": "markdown",
      "metadata": {
        "id": "jJzkiaCJEt9s"
      },
      "source": [
        "### Python arithmetic operators"
      ]
    },
    {
      "cell_type": "markdown",
      "metadata": {
        "id": "mVsIZFIKEt9s"
      },
      "source": [
        "![Python arythmetic operators](https://github.com/up2067537/m32895-public/blob/main/assets/img/arythmetic_operators.png?raw=1)\n",
        "###### Sourse: Python essentials by [Code Institute](https://codeinstitute.net/)"
      ]
    },
    {
      "cell_type": "markdown",
      "metadata": {
        "id": "27WGfX0gEt9s"
      },
      "source": [
        "### String methods\n",
        "N.b. Difference in usage of function and method."
      ]
    },
    {
      "cell_type": "code",
      "execution_count": null,
      "metadata": {
        "id": "qpl_qlhXEt9s"
      },
      "outputs": [],
      "source": [
        "my_string = \"test value\"\n",
        "\n",
        "my_string.capitalize()  # Capitalizes the first character of the string\n",
        "my_string.center()  # Centers string\n",
        "my_string.count()  # Returns a count of times a specified value occurs in the string\n",
        "my_string.encode()  # Returns an encoded version of the string (use decode() to decode)\n",
        "my_string.endswith()  # Returns True if the string ends with a specified suffix\n",
        "my_string.expandtabs()  # Sets the tab size in spaces of the string\n",
        "my_string.find()  # Returns the lowest index position of where a specified character was found\n",
        "my_string.index()  # Searches for a specified value and returns the position of where it was found or an error if not found\n",
        "my_string.isalnum()  # Returns True if all characters are alphanumeric\n",
        "my_string.isalpha()  # Returns True if all characters are alphabetic\n",
        "my_string.isdigit()  # Returns True if all characters are digits\n",
        "my_string.islower()  # Returns True if all characters are lower case\n",
        "my_string.isspace()  # Returns True if all characters are whitespace\n",
        "my_string.istitle()  # Returns True if the string is titlecased\n",
        "my_string.isupper()  # Returns True if all characters in the string are upper case\n",
        "my_string.join()  # concatenates string\n",
        "my_string.ljust()  # Returns a left justified version of the string\n",
        "my_string.lower()  # Converts a string into lower case\n",
        "my_string.lstrip()  # Returns a left trim version of the string\n",
        "my_string.partition()  # Returns a tuple where the string is parted into two strings and the separator\n",
        "my_string.replace()  # Returns a string where a old value is replaced with a new value\n",
        "my_string.rfind()  # Searches highest index in the string for a specified value\n",
        "my_string.rindex()  # Same but with error if nothing found\n",
        "my_string.rjust()  # Returns a right justified version of the string\n",
        "my_string.rpartition()  # Returns a tuple where the string is parted into three parts\n",
        "my_string.rsplit()  # Splits the string at the specified separator, and returns a list\n",
        "my_string.rstrip()  # Returns a right trim version of the string\n",
        "my_string.split()  # Splits the string at the specified separator, and returns a list\n",
        "my_string.splitlines()  # Splits the string at line breaks and returns a list\n",
        "my_string.startswith()  # Returns true if the string starts with the specified value\n",
        "my_string.strip()  # Returns a trimmed version of the string\n",
        "my_string.swapcase()  # Swaps cases, lower case becomes upper case and vice versa\n",
        "my_string.title()  # Converts the first character of each word to upper case\n",
        "my_string.translate()  # Returns a translated string\n",
        "my_string.upper()  # Converts a string into uppercase\n",
        "my_string.zfill()  # Fills the string with a specified number of 0 values at the beginning"
      ]
    },
    {
      "cell_type": "markdown",
      "metadata": {
        "id": "U7ljO9tbEt9s"
      },
      "source": [
        "### Comparison operators\n"
      ]
    },
    {
      "cell_type": "code",
      "execution_count": null,
      "metadata": {
        "id": "T4XpFEOLEt9s",
        "outputId": "4b1bdd8c-3697-4ee6-9170-cc39607d1c90"
      },
      "outputs": [
        {
          "name": "stdout",
          "output_type": "stream",
          "text": [
            "True\n",
            "False\n",
            "True\n",
            "True\n",
            "False\n"
          ]
        }
      ],
      "source": [
        "print('Hello, World!' == 'Hello, World!')\n",
        "print(2!=2)\n",
        "print([1,2]<[1,2,3])\n",
        "print(float(2)>=int(2))\n",
        "print('a'<'A') #This is False as 'a' is Unicode 97 where 'A' is 65\n"
      ]
    },
    {
      "cell_type": "markdown",
      "metadata": {
        "id": "raBZw40BEt9t"
      },
      "source": [
        "### Logical operators\n",
        "Priority:\n",
        "1. not\n",
        "2. and\n",
        "3. or"
      ]
    },
    {
      "cell_type": "code",
      "execution_count": null,
      "metadata": {
        "id": "g6AOYJQMEt9t"
      },
      "outputs": [],
      "source": [
        "print(True and True)\n",
        "print(True and False)\n",
        "print(True or False)\n",
        "print(not (4 < 5 and 4 < 10))"
      ]
    },
    {
      "cell_type": "markdown",
      "metadata": {
        "id": "lIWAYQZOEt9t"
      },
      "source": [
        "### If-Else statements"
      ]
    },
    {
      "cell_type": "markdown",
      "metadata": {
        "id": "QGZ2YkDfEt9t"
      },
      "source": [
        "Boolean logic checked by `if` and `else` statements - **flow control by decision making**.\n",
        "\n",
        "![if-else statement](https://github.com/up2067537/m32895-public/blob/main/assets/img/if_else.png?raw=1)\n",
        "\n",
        "###### Sourse: Python essentials by [Code Institute](https://codeinstitute.net/)"
      ]
    },
    {
      "cell_type": "code",
      "execution_count": null,
      "metadata": {
        "id": "spbjG23JEt9t",
        "outputId": "8f3d1200-e30b-461b-cbc5-23e1e8681932"
      },
      "outputs": [
        {
          "name": "stdout",
          "output_type": "stream",
          "text": [
            "10 is equal to 10\n"
          ]
        }
      ],
      "source": [
        "number = int(input(\"Enter a number:\"))  # input() function\n",
        "\n",
        "if number == 10:\n",
        "    print(f\"{number} is equal to 10\")\n",
        "else:\n",
        "    print(f\"{number} is not equal to 10\")\n",
        "\n",
        "    # Note: formatting of the snippet\n",
        "    # !! if-else statement can be nested !! This will be important for an in-class exersise."
      ]
    },
    {
      "cell_type": "code",
      "source": [
        "grade = int(input(\"Enter your score from 0-100 \"))\n",
        "if grade >= 90:\n",
        "    print(\"Your Grade is A\")\n",
        "elif grade >= 80:\n",
        "    print(\"Your Grade is B\")\n",
        "elif grade >= 70:\n",
        "    print(\"Your Grade is C\")\n",
        "elif grade >= 60:\n",
        "    print(\"Your Grade is D\")\n",
        "else:\n",
        "    print(\"Your Grade is F\")\n",
        "\n",
        ""
      ],
      "metadata": {
        "id": "6paH4bC0NIDO",
        "outputId": "626f7444-2236-4ff7-f28e-85942af6c2cd",
        "colab": {
          "base_uri": "https://localhost:8080/"
        }
      },
      "execution_count": 29,
      "outputs": [
        {
          "output_type": "stream",
          "name": "stdout",
          "text": [
            "Enter your score from 0-100 70\n",
            "Your Grade is C\n"
          ]
        }
      ]
    },
    {
      "cell_type": "code",
      "source": [
        "age = int(input(\"Enter your age: \"))\n",
        "\n",
        "if age < 12:\n",
        "  price = 5\n",
        "elif age >=65:\n",
        "  price = 7\n",
        "else:\n",
        "  student_id = input(\"Do you have a student ID (Yes/No):\").strip().lower()\n",
        "\n",
        "  if student_id == \"yes\":\n",
        "    price = 8\n",
        "  else:\n",
        "    price = 10\n",
        "\n",
        "  print(f\"Ticket price is ${price}\")\n"
      ],
      "metadata": {
        "id": "61SsV70VQxk_",
        "outputId": "7174d185-b88a-4fd7-d3c2-db0d98efad38",
        "colab": {
          "base_uri": "https://localhost:8080/"
        }
      },
      "execution_count": 32,
      "outputs": [
        {
          "output_type": "stream",
          "name": "stdout",
          "text": [
            "Enter your age: 20\n",
            "Do you have a student ID (Yes/No):Yes\n",
            "Ticket price is $8\n"
          ]
        }
      ]
    },
    {
      "cell_type": "markdown",
      "metadata": {
        "id": "8dGfPnkNEt9t"
      },
      "source": [
        "---"
      ]
    },
    {
      "cell_type": "markdown",
      "metadata": {
        "id": "Mo8Ocf23Et9t"
      },
      "source": [
        "## In-class exercise: Movie ticket price calculator\n",
        "#### Objective:\n",
        "Practice using print statements, logical operators, string methods, data type conversion, and `if-else` statements.\n",
        "#### Scenario:\n",
        "The cinema charges different prices based on the customer's age:\n",
        "* Children (0-5 years old): Free\n",
        "* Kids (6-12 years old): $5\n",
        "* Teens (13-17 years old): $8\n",
        "* Adults (18-59 years old): $12\n",
        "* Seniors (60+ years old): Free\n",
        "Your task is to ask the user for their age, determine the correct ticket price, and display it.\n",
        "#### Instructions:\n",
        "1. Prompt the user to enter their age.\n",
        "2. Convert the input to an integer (handle input correctly).\n",
        "3. Use if and else statements to determine the ticket price.\n",
        "4. Print a message displaying the user's age and the corresponding ticket price.\n",
        "5. Use string methods (e.g., .strip(), but not compulsory) to clean up user input.\n"
      ]
    },
    {
      "cell_type": "markdown",
      "metadata": {
        "id": "YVhGQGXGEt9t"
      },
      "source": [
        "### Solution"
      ]
    },
    {
      "cell_type": "code",
      "execution_count": null,
      "metadata": {
        "id": "PgtWtFdgEt9t",
        "outputId": "58e2f33c-b55e-46cc-a61a-66a65a10b349"
      },
      "outputs": [
        {
          "name": "stdout",
          "output_type": "stream",
          "text": [
            "Since you are 55 years old, your ticket price is $12.\n"
          ]
        }
      ],
      "source": [
        "# Ask the user for their age\n",
        "age = input(\"Enter your age: \").strip()\n",
        "\n",
        "# Convert age to integer\n",
        "age = int(age)\n",
        "\n",
        "# Determine the ticket price using only if-else statements\n",
        "if age <= 5:\n",
        "    price = \"free!\"\n",
        "else:\n",
        "    if age <= 12:\n",
        "        price = \"$5\"\n",
        "    else:\n",
        "        if age <= 17:\n",
        "            price = \"$8\"\n",
        "        else:\n",
        "            if age <= 59:\n",
        "                price = \"$12\"\n",
        "            else:\n",
        "                price = \"free!\"\n",
        "\n",
        "# Print the result\n",
        "print(f\"Since you are {age} years old, your ticket price is {price}.\")\n"
      ]
    },
    {
      "cell_type": "markdown",
      "metadata": {
        "id": "LHG__WLWEt9u"
      },
      "source": [
        "---"
      ]
    },
    {
      "cell_type": "markdown",
      "metadata": {
        "id": "bxB6LqTiEt9u"
      },
      "source": [
        "## Homework\n",
        "* Study the structure and options of [GitHub](https://github.com/)\n",
        "* Get familiar with VS Code codespace\n",
        "* Get familiar with Jupyter Notebook\n",
        "* Get familiar with markdown synthax"
      ]
    },
    {
      "cell_type": "markdown",
      "metadata": {
        "id": "Kafw_rMmEt9u"
      },
      "source": []
    }
  ],
  "metadata": {
    "kernelspec": {
      "display_name": "venv",
      "language": "python",
      "name": "python3"
    },
    "language_info": {
      "codemirror_mode": {
        "name": "ipython",
        "version": 3
      },
      "file_extension": ".py",
      "mimetype": "text/x-python",
      "name": "python",
      "nbconvert_exporter": "python",
      "pygments_lexer": "ipython3",
      "version": "3.12.8"
    },
    "colab": {
      "provenance": []
    }
  },
  "nbformat": 4,
  "nbformat_minor": 0
}