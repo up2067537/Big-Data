{
 "cells": [
  {
   "cell_type": "code",
   "execution_count": 33,
   "metadata": {},
   "outputs": [
    {
     "name": "stdout",
     "output_type": "stream",
     "text": [
      "q\n",
      "zq\n",
      "zzq\n",
      "zzzq\n",
      "zzzzq\n"
     ]
    }
   ],
   "source": [
    "def pattern ():\n",
    "   for i in range(5):\n",
    "        for g in range(i):\n",
    "            print('z', end='')\n",
    "        print('q')\n",
    "pattern()"
   ]
  },
  {
   "cell_type": "code",
   "execution_count": 30,
   "metadata": {},
   "outputs": [
    {
     "name": "stdout",
     "output_type": "stream",
     "text": [
      "314.0\n"
     ]
    }
   ],
   "source": [
    "def circle_area(radius):\n",
    "    return 3.14 * radius ** 2\n",
    "radius = int(input(\"Enter the radius: \"))\n",
    "area = circle_area(radius)\n",
    "print(area)"
   ]
  },
  {
   "cell_type": "code",
   "execution_count": 29,
   "metadata": {},
   "outputs": [
    {
     "name": "stdout",
     "output_type": "stream",
     "text": [
      "13\n"
     ]
    }
   ],
   "source": [
    "def add_numbers(a, b):\n",
    "    return a + b\n",
    "a = int(input(\"Enter a number: \"))\n",
    "b = int(input(\"Enter another number: \"))\n",
    "result = add_numbers(a, b)\n",
    "print(result)"
   ]
  },
  {
   "cell_type": "code",
   "execution_count": 27,
   "metadata": {},
   "outputs": [
    {
     "name": "stdout",
     "output_type": "stream",
     "text": [
      "q\n",
      "zq\n",
      "zzq\n",
      "zzzq\n",
      "zzzzq\n"
     ]
    }
   ],
   "source": [
    "pattern = \"q\"\n",
    "for i in range(5):\n",
    "    for g in range(i):\n",
    "        print('z', end='')\n",
    "    print(pattern)"
   ]
  },
  {
   "cell_type": "code",
   "execution_count": 13,
   "metadata": {},
   "outputs": [
    {
     "name": "stdout",
     "output_type": "stream",
     "text": [
      "I like apple\n",
      "I like banana\n",
      "I like strawberry\n"
     ]
    }
   ],
   "source": [
    "fruit = [\"apple\", \"banana\", \"strawberry\"]\n",
    "for list in fruit:\n",
    "    print(\"I like\", list)\n"
   ]
  },
  {
   "cell_type": "code",
   "execution_count": 3,
   "metadata": {},
   "outputs": [
    {
     "name": "stdout",
     "output_type": "stream",
     "text": [
      "Try again\n",
      "Try again\n",
      "You guessed it!\n"
     ]
    }
   ],
   "source": [
    "number = 10\n",
    "while int(input(\"Guess the number: \")) != number:\n",
    "    print(\"Try again\")\n",
    "else:\n",
    "    print(\"You guessed it!\")"
   ]
  },
  {
   "cell_type": "code",
   "execution_count": 2,
   "metadata": {},
   "outputs": [
    {
     "name": "stdout",
     "output_type": "stream",
     "text": [
      "It's cool\n"
     ]
    }
   ],
   "source": [
    "temp = int(input(\"Whats the temperature? \"))\n",
    "if temp >= 25:\n",
    "    print(\"It's hot\")\n",
    "elif temp >= 20:\n",
    "    print(\"It's warm\")\n",
    "elif temp >= 15:\n",
    "    print(\"It's cool\")\n",
    "elif temp >= 10:\n",
    "    print(\"It's chilly\")\n",
    "else:\n",
    "    print(\"It's cold\")\n"
   ]
  }
 ],
 "metadata": {
  "kernelspec": {
   "display_name": "Python 3",
   "language": "python",
   "name": "python3"
  },
  "language_info": {
   "codemirror_mode": {
    "name": "ipython",
    "version": 3
   },
   "file_extension": ".py",
   "mimetype": "text/x-python",
   "name": "python",
   "nbconvert_exporter": "python",
   "pygments_lexer": "ipython3",
   "version": "3.10.12"
  }
 },
 "nbformat": 4,
 "nbformat_minor": 2
}
